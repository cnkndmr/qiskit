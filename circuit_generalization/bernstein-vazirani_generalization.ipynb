{
 "cells": [
  {
   "cell_type": "code",
   "execution_count": 1,
   "metadata": {},
   "outputs": [],
   "source": [
    "import matplotlib.pyplot as plt\n",
    "plt.style.use('dark_background')\n",
    "%matplotlib inline\n",
    "import numpy as np\n",
    "\n",
    "from qiskit import IBMQ, BasicAer\n",
    "from qiskit.providers.ibmq import least_busy\n",
    "from qiskit import QuantumCircuit, ClassicalRegister, QuantumRegister, execute\n",
    "from qiskit.visualization import plot_histogram"
   ]
  },
  {
   "cell_type": "code",
   "execution_count": 2,
   "metadata": {},
   "outputs": [
    {
     "name": "stdout",
     "output_type": "stream",
     "text": [
      "As integer: 2\n",
      "As binary: 10\n"
     ]
    }
   ],
   "source": [
    "import random\n",
    "N = 2\n",
    "s = random.randint(0, 2**N) # the hidden integer \n",
    "print(\"As integer:\", s)\n",
    "s = \"{}\".format(bin(s)[2:])\n",
    "print(\"As binary:\", s)\n",
    "nQubits = len(s)"
   ]
  },
  {
   "cell_type": "code",
   "execution_count": 3,
   "metadata": {},
   "outputs": [
    {
     "data": {
      "image/png": "[encoded data removed]",
      "text/plain": [
       "<Figure size 522.02x146.2 with 1 Axes>"
      ]
     },
     "execution_count": 3,
     "metadata": {},
     "output_type": "execute_result"
    }
   ],
   "source": [
    "qr = QuantumRegister(nQubits)\n",
    "\n",
    "bvCircuit = QuantumCircuit(qr)\n",
    "barriers = True\n",
    "\n",
    "for i in range(nQubits):\n",
    "    bvCircuit.h(qr[i])\n",
    "    \n",
    "if barriers:\n",
    "    bvCircuit.barrier()\n",
    "    \n",
    "for qbit in range(len(str(s))):\n",
    "    if (s[qbit] == '1'):\n",
    "        bvCircuit.z(qbit)\n",
    "\n",
    "if barriers:\n",
    "    bvCircuit.barrier()\n",
    "        \n",
    "for i in range(nQubits):\n",
    "    bvCircuit.h(qr[i])\n",
    "    \n",
    "if barriers:\n",
    "    bvCircuit.barrier()\n",
    "\n",
    "bvCircuit.measure_all()\n",
    "\n",
    "bvCircuit.draw(output='mpl', scale=0.5)"
   ]
  },
  {
   "cell_type": "code",
   "execution_count": 4,
   "metadata": {},
   "outputs": [
    {
     "name": "stdout",
     "output_type": "stream",
     "text": [
      "Hidden string: 10\n"
     ]
    },
    {
     "data": {
      "image/png": "[encoded data removed]",
      "text/plain": [
       "<Figure size 504x360 with 1 Axes>"
      ]
     },
     "execution_count": 4,
     "metadata": {},
     "output_type": "execute_result"
    }
   ],
   "source": [
    "backend = BasicAer.get_backend('qasm_simulator')\n",
    "shots = 1024\n",
    "results = execute(bvCircuit, backend=backend, shots=shots).result()\n",
    "answer = results.get_counts()\n",
    "\n",
    "print(\"Hidden string:\", s)\n",
    "plot_histogram(answer)"
   ]
  }
 ],
 "metadata": {
  "celltoolbar": "Tags",
  "kernelspec": {
   "display_name": "Python 3",
   "language": "python",
   "name": "python3"
  },
  "language_info": {
   "codemirror_mode": {
    "name": "ipython",
    "version": 3
   },
   "file_extension": ".py",
   "mimetype": "text/x-python",
   "name": "python",
   "nbconvert_exporter": "python",
   "pygments_lexer": "ipython3",
   "version": "3.7.6"
  }
 },
 "nbformat": 4,
 "nbformat_minor": 4
}
