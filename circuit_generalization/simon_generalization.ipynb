{
 "cells": [
  {
   "cell_type": "code",
   "execution_count": 1,
   "metadata": {},
   "outputs": [],
   "source": [
    "%matplotlib inline\n",
    "import matplotlib.pyplot as plt\n",
    "plt.style.use('dark_background')\n",
    "\n",
    "from qiskit import IBMQ, BasicAer\n",
    "from qiskit.providers.ibmq import least_busy\n",
    "from qiskit import QuantumCircuit, execute\n",
    "from qiskit.visualization import plot_histogram"
   ]
  },
  {
   "cell_type": "code",
   "execution_count": 2,
   "metadata": {},
   "outputs": [
    {
     "name": "stdin",
     "output_type": "stream",
     "text": [
      "Qubit count: 12\n"
     ]
    },
    {
     "name": "stdout",
     "output_type": "stream",
     "text": [
      "As integer: 1986\n",
      "As binary: 011111000010\n"
     ]
    }
   ],
   "source": [
    "import random\n",
    "N = int(input(\"Qubit count:\"))\n",
    "rr = random.random()\n",
    "s = int(rr * 2**N)\n",
    "print(\"As integer:\", s)\n",
    "s_str = \"{}\".format(bin(s)[2:])\n",
    "\n",
    "if len(s_str) != N:\n",
    "    for i in range(N - len(s_str)):\n",
    "        s_str = \"0\" + s_str\n",
    "\n",
    "print(\"As binary:\", s_str)"
   ]
  },
  {
   "cell_type": "code",
   "execution_count": 3,
   "metadata": {},
   "outputs": [],
   "source": [
    "num_qubit = 2*len(s_str)\n",
    "simonCircuit = QuantumCircuit(num_qubit, num_qubit)\n",
    "\n",
    "simonCircuit.h(range(len(s_str)))\n",
    "simonCircuit.barrier()\n",
    "\n",
    "for qbit in range(len(s_str)):\n",
    "    if (s_str[qbit] == '1'):\n",
    "        for j in range(len(s_str)):\n",
    "            simonCircuit.cx(qbit, len(s_str) + j)\n",
    "        simonCircuit.barrier()\n",
    "\n",
    "simonCircuit.h(range(len(s_str)))\n",
    "\n",
    "simonCircuit.measure_all()\n",
    "\n",
    "# simonCircuit.draw(output='mpl', scale=0.5)"
   ]
  },
  {
   "cell_type": "code",
   "execution_count": 4,
   "metadata": {},
   "outputs": [
    {
     "name": "stdout",
     "output_type": "stream",
     "text": [
      "{'010000111110 000000000000000000000000': 522, '000000000000 000000000000000000000000': 502}\n"
     ]
    }
   ],
   "source": [
    "backend = BasicAer.get_backend('qasm_simulator')\n",
    "shots = 1024\n",
    "results = execute(simonCircuit, backend=backend, shots=shots).result()\n",
    "answer = results.get_counts()\n",
    "\n",
    "answer_plot = {}\n",
    "for measresult in answer.keys():\n",
    "    measresult_input = measresult[len(str(s_str)):]\n",
    "    if measresult_input in answer_plot:\n",
    "        answer_plot[measresult_input] += answer[measresult]\n",
    "    else:\n",
    "        answer_plot[measresult_input] = answer[measresult] \n",
    "\n",
    "print( answer_plot )\n",
    "# plot_histogram(answer_plot)"
   ]
  }
 ],
 "metadata": {
  "kernelspec": {
   "display_name": "Python 3",
   "language": "python",
   "name": "python3"
  },
  "language_info": {
   "codemirror_mode": {
    "name": "ipython",
    "version": 3
   },
   "file_extension": ".py",
   "mimetype": "text/x-python",
   "name": "python",
   "nbconvert_exporter": "python",
   "pygments_lexer": "ipython3",
   "version": "3.7.6"
  }
 },
 "nbformat": 4,
 "nbformat_minor": 4
}
